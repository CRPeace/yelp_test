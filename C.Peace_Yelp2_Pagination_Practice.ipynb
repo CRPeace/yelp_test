{
 "cells": [
  {
   "cell_type": "markdown",
   "id": "200099c9",
   "metadata": {},
   "source": [
    "# Yelp Pagination Practice\n",
    "Cameron Peace"
   ]
  },
  {
   "cell_type": "code",
   "execution_count": 1,
   "id": "5e6afa3a",
   "metadata": {},
   "outputs": [],
   "source": [
    "import pandas as pd\n",
    "import json\n",
    "from yelpapi import YelpAPI"
   ]
  },
  {
   "cell_type": "code",
   "execution_count": 5,
   "id": "71383bc4",
   "metadata": {},
   "outputs": [
    {
     "data": {
      "text/plain": [
       "dict_keys(['client-id', 'api-key'])"
      ]
     },
     "execution_count": 5,
     "metadata": {},
     "output_type": "execute_result"
    }
   ],
   "source": [
    "with open('/Users/cameron/.secret/yelp_api.json') as f:\n",
    "    logs = json.load(f)\n",
    "logs.keys()"
   ]
  },
  {
   "cell_type": "code",
   "execution_count": 6,
   "id": "e769e620",
   "metadata": {},
   "outputs": [
    {
     "data": {
      "text/plain": [
       "<yelpapi.yelpapi.YelpAPI at 0x160c235b0>"
      ]
     },
     "execution_count": 6,
     "metadata": {},
     "output_type": "execute_result"
    }
   ],
   "source": [
    "api = YelpAPI(logs['api-key'], timeout_s=5)\n",
    "api"
   ]
  },
  {
   "cell_type": "code",
   "execution_count": 9,
   "id": "031409bd",
   "metadata": {},
   "outputs": [],
   "source": [
    "seattle_thai_1 = api.search_query(location='Seattle, WA', term='thai food')\n",
    "seattle_thai_2 = api.search_query(location='Seattle, WA', term='thai food', offset=20)"
   ]
  },
  {
   "cell_type": "code",
   "execution_count": 14,
   "id": "89c80b61",
   "metadata": {},
   "outputs": [],
   "source": [
    "df_thai_1 = pd.DataFrame(seattle_thai_1['businesses'])\n",
    "df_thai_2 = pd.DataFrame(seattle_thai_2['businesses'])\n",
    "thai_both = pd.concat([df_thai_1, df_thai_2], ignore_index=True)"
   ]
  },
  {
   "cell_type": "code",
   "execution_count": 16,
   "id": "a183638e",
   "metadata": {},
   "outputs": [
    {
     "data": {
      "text/plain": [
       "40"
      ]
     },
     "metadata": {},
     "output_type": "display_data"
    },
    {
     "data": {
      "text/html": [
       "<div>\n",
       "<style scoped>\n",
       "    .dataframe tbody tr th:only-of-type {\n",
       "        vertical-align: middle;\n",
       "    }\n",
       "\n",
       "    .dataframe tbody tr th {\n",
       "        vertical-align: top;\n",
       "    }\n",
       "\n",
       "    .dataframe thead th {\n",
       "        text-align: right;\n",
       "    }\n",
       "</style>\n",
       "<table border=\"1\" class=\"dataframe\">\n",
       "  <thead>\n",
       "    <tr style=\"text-align: right;\">\n",
       "      <th></th>\n",
       "      <th>id</th>\n",
       "      <th>alias</th>\n",
       "      <th>name</th>\n",
       "      <th>image_url</th>\n",
       "      <th>is_closed</th>\n",
       "      <th>url</th>\n",
       "      <th>review_count</th>\n",
       "      <th>categories</th>\n",
       "      <th>rating</th>\n",
       "      <th>coordinates</th>\n",
       "      <th>transactions</th>\n",
       "      <th>price</th>\n",
       "      <th>location</th>\n",
       "      <th>phone</th>\n",
       "      <th>display_phone</th>\n",
       "      <th>distance</th>\n",
       "    </tr>\n",
       "  </thead>\n",
       "  <tbody>\n",
       "    <tr>\n",
       "      <th>3</th>\n",
       "      <td>Ic8vm_azp9sKVBp9BRBufg</td>\n",
       "      <td>sisi-kay-thai-eatery-and-bar-seattle-5</td>\n",
       "      <td>Sisi Kay Thai Eatery &amp; Bar</td>\n",
       "      <td>https://s3-media2.fl.yelpcdn.com/bphoto/sdQO6D...</td>\n",
       "      <td>False</td>\n",
       "      <td>https://www.yelp.com/biz/sisi-kay-thai-eatery-...</td>\n",
       "      <td>376</td>\n",
       "      <td>[{'alias': 'thai', 'title': 'Thai'}, {'alias':...</td>\n",
       "      <td>4.5</td>\n",
       "      <td>{'latitude': 47.66161, 'longitude': -122.33855}</td>\n",
       "      <td>[delivery, pickup]</td>\n",
       "      <td>$$</td>\n",
       "      <td>{'address1': '1612 N 45th St', 'address2': Non...</td>\n",
       "      <td>+12066594382</td>\n",
       "      <td>(206) 659-4382</td>\n",
       "      <td>5291.861794</td>\n",
       "    </tr>\n",
       "    <tr>\n",
       "      <th>14</th>\n",
       "      <td>xmxwiHoNAVXnoeK6iBltNw</td>\n",
       "      <td>srivilai-thai-cuisine-seattle</td>\n",
       "      <td>Srivilai Thai Cuisine</td>\n",
       "      <td>https://s3-media2.fl.yelpcdn.com/bphoto/96ImY8...</td>\n",
       "      <td>False</td>\n",
       "      <td>https://www.yelp.com/biz/srivilai-thai-cuisine...</td>\n",
       "      <td>230</td>\n",
       "      <td>[{'alias': 'thai', 'title': 'Thai'}]</td>\n",
       "      <td>4.5</td>\n",
       "      <td>{'latitude': 47.57428, 'longitude': -122.38705}</td>\n",
       "      <td>[delivery]</td>\n",
       "      <td>$$</td>\n",
       "      <td>{'address1': '3247 California Ave SW', 'addres...</td>\n",
       "      <td>+12062575171</td>\n",
       "      <td>(206) 257-5171</td>\n",
       "      <td>6174.892642</td>\n",
       "    </tr>\n",
       "    <tr>\n",
       "      <th>19</th>\n",
       "      <td>IXA5XIytbxJPXJZ26v0w0A</td>\n",
       "      <td>khao-soi-bremerton-2</td>\n",
       "      <td>Khao Soi</td>\n",
       "      <td>https://s3-media2.fl.yelpcdn.com/bphoto/27SfVz...</td>\n",
       "      <td>False</td>\n",
       "      <td>https://www.yelp.com/biz/khao-soi-bremerton-2?...</td>\n",
       "      <td>142</td>\n",
       "      <td>[{'alias': 'thai', 'title': 'Thai'}]</td>\n",
       "      <td>5.0</td>\n",
       "      <td>{'latitude': 47.570101, 'longitude': -122.6164...</td>\n",
       "      <td>[pickup, delivery]</td>\n",
       "      <td>$$</td>\n",
       "      <td>{'address1': '2003 E 11th St', 'address2': Non...</td>\n",
       "      <td>+13603733431</td>\n",
       "      <td>(360) 373-3431</td>\n",
       "      <td>22037.069952</td>\n",
       "    </tr>\n",
       "    <tr>\n",
       "      <th>12</th>\n",
       "      <td>RwVSt0N7-Le9ekGnZZwNjQ</td>\n",
       "      <td>manao-thai-street-eats-seattle-4</td>\n",
       "      <td>Manao Thai Street Eats</td>\n",
       "      <td>https://s3-media3.fl.yelpcdn.com/bphoto/FgXavR...</td>\n",
       "      <td>False</td>\n",
       "      <td>https://www.yelp.com/biz/manao-thai-street-eat...</td>\n",
       "      <td>476</td>\n",
       "      <td>[{'alias': 'thai', 'title': 'Thai'}]</td>\n",
       "      <td>4.0</td>\n",
       "      <td>{'latitude': 47.61548, 'longitude': -122.31594}</td>\n",
       "      <td>[delivery]</td>\n",
       "      <td>$$</td>\n",
       "      <td>{'address1': '1222 E Pine St', 'address2': 'St...</td>\n",
       "      <td>+12065562964</td>\n",
       "      <td>(206) 556-2964</td>\n",
       "      <td>1077.077301</td>\n",
       "    </tr>\n",
       "    <tr>\n",
       "      <th>32</th>\n",
       "      <td>e_AXrva3OtBeCW_GGKY3kQ</td>\n",
       "      <td>guitars-khao-mun-gai-seattle-2</td>\n",
       "      <td>Guitar's Khao Mun Gai</td>\n",
       "      <td>https://s3-media3.fl.yelpcdn.com/bphoto/Wk62My...</td>\n",
       "      <td>False</td>\n",
       "      <td>https://www.yelp.com/biz/guitars-khao-mun-gai-...</td>\n",
       "      <td>26</td>\n",
       "      <td>[{'alias': 'thai', 'title': 'Thai'}]</td>\n",
       "      <td>4.0</td>\n",
       "      <td>{'latitude': 47.6153769749788, 'longitude': -1...</td>\n",
       "      <td>[delivery]</td>\n",
       "      <td>$$</td>\n",
       "      <td>{'address1': '414 E Pine St', 'address2': None...</td>\n",
       "      <td>+12065682111</td>\n",
       "      <td>(206) 568-2111</td>\n",
       "      <td>319.286882</td>\n",
       "    </tr>\n",
       "  </tbody>\n",
       "</table>\n",
       "</div>"
      ],
      "text/plain": [
       "                        id                                   alias  \\\n",
       "3   Ic8vm_azp9sKVBp9BRBufg  sisi-kay-thai-eatery-and-bar-seattle-5   \n",
       "14  xmxwiHoNAVXnoeK6iBltNw           srivilai-thai-cuisine-seattle   \n",
       "19  IXA5XIytbxJPXJZ26v0w0A                    khao-soi-bremerton-2   \n",
       "12  RwVSt0N7-Le9ekGnZZwNjQ        manao-thai-street-eats-seattle-4   \n",
       "32  e_AXrva3OtBeCW_GGKY3kQ          guitars-khao-mun-gai-seattle-2   \n",
       "\n",
       "                          name  \\\n",
       "3   Sisi Kay Thai Eatery & Bar   \n",
       "14       Srivilai Thai Cuisine   \n",
       "19                    Khao Soi   \n",
       "12      Manao Thai Street Eats   \n",
       "32       Guitar's Khao Mun Gai   \n",
       "\n",
       "                                            image_url  is_closed  \\\n",
       "3   https://s3-media2.fl.yelpcdn.com/bphoto/sdQO6D...      False   \n",
       "14  https://s3-media2.fl.yelpcdn.com/bphoto/96ImY8...      False   \n",
       "19  https://s3-media2.fl.yelpcdn.com/bphoto/27SfVz...      False   \n",
       "12  https://s3-media3.fl.yelpcdn.com/bphoto/FgXavR...      False   \n",
       "32  https://s3-media3.fl.yelpcdn.com/bphoto/Wk62My...      False   \n",
       "\n",
       "                                                  url  review_count  \\\n",
       "3   https://www.yelp.com/biz/sisi-kay-thai-eatery-...           376   \n",
       "14  https://www.yelp.com/biz/srivilai-thai-cuisine...           230   \n",
       "19  https://www.yelp.com/biz/khao-soi-bremerton-2?...           142   \n",
       "12  https://www.yelp.com/biz/manao-thai-street-eat...           476   \n",
       "32  https://www.yelp.com/biz/guitars-khao-mun-gai-...            26   \n",
       "\n",
       "                                           categories  rating  \\\n",
       "3   [{'alias': 'thai', 'title': 'Thai'}, {'alias':...     4.5   \n",
       "14               [{'alias': 'thai', 'title': 'Thai'}]     4.5   \n",
       "19               [{'alias': 'thai', 'title': 'Thai'}]     5.0   \n",
       "12               [{'alias': 'thai', 'title': 'Thai'}]     4.0   \n",
       "32               [{'alias': 'thai', 'title': 'Thai'}]     4.0   \n",
       "\n",
       "                                          coordinates        transactions  \\\n",
       "3     {'latitude': 47.66161, 'longitude': -122.33855}  [delivery, pickup]   \n",
       "14    {'latitude': 47.57428, 'longitude': -122.38705}          [delivery]   \n",
       "19  {'latitude': 47.570101, 'longitude': -122.6164...  [pickup, delivery]   \n",
       "12    {'latitude': 47.61548, 'longitude': -122.31594}          [delivery]   \n",
       "32  {'latitude': 47.6153769749788, 'longitude': -1...          [delivery]   \n",
       "\n",
       "   price                                           location         phone  \\\n",
       "3     $$  {'address1': '1612 N 45th St', 'address2': Non...  +12066594382   \n",
       "14    $$  {'address1': '3247 California Ave SW', 'addres...  +12062575171   \n",
       "19    $$  {'address1': '2003 E 11th St', 'address2': Non...  +13603733431   \n",
       "12    $$  {'address1': '1222 E Pine St', 'address2': 'St...  +12065562964   \n",
       "32    $$  {'address1': '414 E Pine St', 'address2': None...  +12065682111   \n",
       "\n",
       "     display_phone      distance  \n",
       "3   (206) 659-4382   5291.861794  \n",
       "14  (206) 257-5171   6174.892642  \n",
       "19  (360) 373-3431  22037.069952  \n",
       "12  (206) 556-2964   1077.077301  \n",
       "32  (206) 568-2111    319.286882  "
      ]
     },
     "execution_count": 16,
     "metadata": {},
     "output_type": "execute_result"
    }
   ],
   "source": [
    "display(len(thai_both))\n",
    "thai_both.sample(5)\n"
   ]
  },
  {
   "cell_type": "code",
   "execution_count": 17,
   "id": "4e60084e",
   "metadata": {},
   "outputs": [
    {
     "data": {
      "text/plain": [
       "0                            Bangrak Market\n",
       "1                    Fern Thai Capitol Hill\n",
       "2       Noi Thai Cuisine - Downtown Seattle\n",
       "3                Sisi Kay Thai Eatery & Bar\n",
       "4                 Bai Tong Thai Street Cafe\n",
       "5                               Pestle Rock\n",
       "6                        Cherry Street Thai\n",
       "7                      Bahn Thai Restaurant\n",
       "8                  Pop Pop Thai Street Food\n",
       "9                   Isarn Thai Soul Kitchen\n",
       "10                     Amazing Thai Cuisine\n",
       "11                 Kin Len Thai Night Bites\n",
       "12                   Manao Thai Street Eats\n",
       "13                      Biang Biang Noodles\n",
       "14                    Srivilai Thai Cuisine\n",
       "15                             Buddha Ruksa\n",
       "16                    Jamjuree Thai Cuisine\n",
       "17                                Nara Thai\n",
       "18    Noi Thai Cuisine - Green Lake Seattle\n",
       "19                                 Khao Soi\n",
       "20                             Chan Seattle\n",
       "21                        Fern Thai on Main\n",
       "22                                  Kin Dee\n",
       "23                               Viengthong\n",
       "24                              Kedai Makan\n",
       "25                                Taurus Ox\n",
       "26                              Wild Ginger\n",
       "27                  Isarn Thai Soul Kitchen\n",
       "28                            Araya's Place\n",
       "29                      Cashew Thai Cuisine\n",
       "30                               Panwa Thai\n",
       "31                                   Mantra\n",
       "32                    Guitar's Khao Mun Gai\n",
       "33                     Thai Siam Restaurant\n",
       "34                                  Morfire\n",
       "35                                Thai On 1\n",
       "36                        Thai Thai Kitchen\n",
       "37                    Reckless Noodle House\n",
       "38                            Secret Savory\n",
       "39                       Bua 9 Thai Cuisine\n",
       "Name: name, dtype: object"
      ]
     },
     "execution_count": 17,
     "metadata": {},
     "output_type": "execute_result"
    }
   ],
   "source": [
    "thai_both['name']"
   ]
  }
 ],
 "metadata": {
  "kernelspec": {
   "display_name": "Python (dojo-env)",
   "language": "python",
   "name": "dojo-env"
  },
  "language_info": {
   "codemirror_mode": {
    "name": "ipython",
    "version": 3
   },
   "file_extension": ".py",
   "mimetype": "text/x-python",
   "name": "python",
   "nbconvert_exporter": "python",
   "pygments_lexer": "ipython3",
   "version": "3.9.15"
  },
  "toc": {
   "base_numbering": 1,
   "nav_menu": {},
   "number_sections": false,
   "sideBar": true,
   "skip_h1_title": false,
   "title_cell": "Table of Contents",
   "title_sidebar": "Contents",
   "toc_cell": false,
   "toc_position": {},
   "toc_section_display": true,
   "toc_window_display": false
  },
  "varInspector": {
   "cols": {
    "lenName": 16,
    "lenType": 16,
    "lenVar": 40
   },
   "kernels_config": {
    "python": {
     "delete_cmd_postfix": "",
     "delete_cmd_prefix": "del ",
     "library": "var_list.py",
     "varRefreshCmd": "print(var_dic_list())"
    },
    "r": {
     "delete_cmd_postfix": ") ",
     "delete_cmd_prefix": "rm(",
     "library": "var_list.r",
     "varRefreshCmd": "cat(var_dic_list()) "
    }
   },
   "types_to_exclude": [
    "module",
    "function",
    "builtin_function_or_method",
    "instance",
    "_Feature"
   ],
   "window_display": false
  }
 },
 "nbformat": 4,
 "nbformat_minor": 5
}
